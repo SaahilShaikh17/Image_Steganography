{
 "cells": [
  {
   "cell_type": "code",
   "execution_count": 223,
   "metadata": {},
   "outputs": [],
   "source": [
    "import cv2\n",
    "import numpy as np"
   ]
  },
  {
   "cell_type": "code",
   "execution_count": 224,
   "metadata": {},
   "outputs": [],
   "source": [
    "def binary_conversion(n):\n",
    "    binary_number = ''\n",
    "    while n > 0:\n",
    "        binary_number = str(n % 2) + binary_number\n",
    "        n //= 2\n",
    "    return binary_number"
   ]
  },
  {
   "cell_type": "code",
   "execution_count": 225,
   "metadata": {},
   "outputs": [],
   "source": [
    "def string_to_bin(message):\n",
    "  binary_message = \"\"\n",
    "  for char in message:\n",
    "    # Convert each character to its 8-bit binary representation\n",
    "    binary_char = bin(ord(char))[2:].zfill(8)  # Pad with zeros to 8 bits\n",
    "    binary_message += binary_char\n",
    "  # Append end-of-message marker (8 consecutive 0s)\n",
    "  binary_message += '00000000'\n",
    "  return binary_message"
   ]
  },
  {
   "cell_type": "code",
   "execution_count": 226,
   "metadata": {},
   "outputs": [],
   "source": [
    "def embed_bit(channel, bit):\n",
    "    # Embeds the bit into the channel by modifying the least significant bit\n",
    "    if bit == '0':\n",
    "        # If the bit to be embedded is 0, clear the least significant bit\n",
    "        return channel & 0xFE\n",
    "    else:\n",
    "        # If the bit to be embedded is 1, set the least significant bit\n",
    "        return channel | 0x01\n"
   ]
  },
  {
   "cell_type": "code",
   "execution_count": 227,
   "metadata": {},
   "outputs": [],
   "source": [
    "def encrypt(cover_image, message):\n",
    "    height, width, depth = cover_image.shape\n",
    "    binary_message = string_to_bin(message)\n",
    "    message_index = 0\n",
    "\n",
    "    for row in range(height):\n",
    "        for column in range(width):\n",
    "            for channel in range(depth):\n",
    "                if message_index < len(binary_message):\n",
    "                    channel_value = cover_image[row, column, channel]\n",
    "                    bit_to_embed = binary_message[message_index]\n",
    "                    modified_channel = embed_bit(channel_value, bit_to_embed)\n",
    "                    cover_image[row, column, channel] = modified_channel\n",
    "                    message_index += 1\n",
    "                else:\n",
    "                    return cover_image\n",
    "    return cover_image"
   ]
  },
  {
   "cell_type": "code",
   "execution_count": 228,
   "metadata": {},
   "outputs": [],
   "source": [
    "def decrypt(stego_image):\n",
    "  binary_message = \"\"\n",
    "  height, width, depth = stego_image.shape\n",
    "  message_index = 0\n",
    "\n",
    "  for row in range(height):\n",
    "    for column in range(width):\n",
    "      for channel in range(depth):\n",
    "        channel_value = stego_image[row, column, channel]\n",
    "        extracted_LSB = channel_value & 0x01  # Extract LSB\n",
    "        binary_message += str(extracted_LSB)\n",
    "        message_index += 1\n",
    "\n",
    "        # Check for end-of-message marker (8 consecutive 0s)\n",
    "        if len(binary_message) >= 8 and binary_message[-8:] == '00000000':\n",
    "          return binary_message[:-8]  # Return message excluding ending marker\n",
    "\n",
    "  # If end-of-message marker not found, return entire message\n",
    "  return binary_message"
   ]
  },
  {
   "cell_type": "code",
   "execution_count": 229,
   "metadata": {},
   "outputs": [
    {
     "name": "stdout",
     "output_type": "stream",
     "text": [
      "Original message: Hello\n"
     ]
    }
   ],
   "source": [
    "image = cv2.imread('images.jpeg')\n",
    "message = \"Hello this is a test message\"\n",
    "\n",
    "stego_image= encrypt(image,message)\n",
    "stego_img_path= \"Stego_image.png\"\n",
    "cv2.imwrite(stego_img_path,stego_image)\n",
    "\n",
    "binary_message = decrypt(stego_image)\n",
    "\n",
    "def binary_to_string(binary_message):\n",
    "    message = \"\"\n",
    "    for i in range(0, len(binary_message), 8):\n",
    "        byte = binary_message[i:i + 8]\n",
    "        char = chr(int(byte, 2))\n",
    "        message += char\n",
    "    return message\n",
    "\n",
    "# Convert binary message to string and print the original message\n",
    "original_message = binary_to_string(binary_message)\n",
    "print(\"Original message:\", original_message)"
   ]
  },
  {
   "cell_type": "code",
   "execution_count": null,
   "metadata": {},
   "outputs": [],
   "source": []
  }
 ],
 "metadata": {
  "kernelspec": {
   "display_name": "Python 3",
   "language": "python",
   "name": "python3"
  },
  "language_info": {
   "codemirror_mode": {
    "name": "ipython",
    "version": 3
   },
   "file_extension": ".py",
   "mimetype": "text/x-python",
   "name": "python",
   "nbconvert_exporter": "python",
   "pygments_lexer": "ipython3",
   "version": "3.11.6"
  }
 },
 "nbformat": 4,
 "nbformat_minor": 2
}
