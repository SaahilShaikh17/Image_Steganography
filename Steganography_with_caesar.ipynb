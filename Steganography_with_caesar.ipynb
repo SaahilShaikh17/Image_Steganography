{
  "cells": [
    {
      "cell_type": "code",
      "execution_count": 12,
      "metadata": {
        "id": "FS_Ra7ch-yLY"
      },
      "outputs": [],
      "source": [
        "import cv2\n",
        "import numpy as np"
      ]
    },
    {
      "cell_type": "code",
      "execution_count": 13,
      "metadata": {
        "id": "lXkXqdjR-yLc"
      },
      "outputs": [],
      "source": [
        "def binary_conversion(n):\n",
        "    binary_number = ''\n",
        "    while n > 0:\n",
        "        binary_number = str(n % 2) + binary_number\n",
        "        n //= 2\n",
        "    return binary_number"
      ]
    },
    {
      "cell_type": "code",
      "execution_count": 14,
      "metadata": {
        "id": "9OKueCBk-yLd"
      },
      "outputs": [],
      "source": [
        "def string_to_bin(message):\n",
        "    binary_message = \"\"\n",
        "    for char in message:\n",
        "        # Convert each character to its 8-bit binary representation\n",
        "        binary_char = bin(ord(char))[2:].zfill(8)  # Pad with zeros to 8 bits\n",
        "        binary_message += binary_char\n",
        "    # Append end-of-message marker (8 consecutive 0s)\n",
        "    binary_message += '00000000'\n",
        "    return binary_message"
      ]
    },
    {
      "cell_type": "code",
      "execution_count": 15,
      "metadata": {
        "id": "n6vmTZGo-yLd"
      },
      "outputs": [],
      "source": [
        "def embed_bit(channel, bit):\n",
        "    # Embeds the bit into the channel by modifying the least significant bit\n",
        "    if bit == '0':\n",
        "        # If the bit to be embedded is 0, clear the least significant bit\n",
        "        return channel & 0xFE\n",
        "    else:\n",
        "        # If the bit to be embedded is 1, set the least significant bit\n",
        "        return channel | 0x01\n"
      ]
    },
    {
      "cell_type": "code",
      "execution_count": 16,
      "metadata": {
        "id": "DrU8iHGt-yLe"
      },
      "outputs": [],
      "source": [
        "# def encrypt_stego(cover_image, message):\n",
        "#     height, width, depth = cover_image.shape\n",
        "#     binary_message = string_to_bin(message)\n",
        "#     message_index = 0\n",
        "\n",
        "#     for row in range(height):\n",
        "#         for column in range(width):\n",
        "#             for channel in range(depth):\n",
        "#                 if message_index < len(binary_message):\n",
        "#                     channel_value = cover_image[row, column, channel]\n",
        "#                     bit_to_embed = binary_message[message_index]\n",
        "#                     modified_channel = embed_bit(channel_value, bit_to_embed)\n",
        "#                     cover_image[row, column, channel] = modified_channel\n",
        "#                     message_index += 1\n",
        "#                 else:\n",
        "#                     return cover_image\n",
        "#     return cover_image\n",
        "\n",
        "def encrypt_stego(cover_image, message):\n",
        "    height, width, depth = cover_image.shape\n",
        "    binary_message = string_to_bin(message)\n",
        "    message_index = 0\n",
        "\n",
        "    for row in range(height):\n",
        "        for column in range(width):\n",
        "            for channel in range(depth):\n",
        "                if message_index < len(binary_message):\n",
        "                    channel_value = cover_image[row, column, channel]\n",
        "                    bit_to_embed = binary_message[message_index]\n",
        "                    modified_channel = embed_bit(channel_value, bit_to_embed)\n",
        "                    cover_image[row, column, channel] = modified_channel\n",
        "                    message_index += 1\n",
        "                else:\n",
        "                    # If the entire message has been embedded, embed end-of-message marker\n",
        "                    cover_image[row, column, channel] = embed_bit(channel_value, '0')\n",
        "                    return cover_image  # End embedding process\n",
        "    return cover_image\n"
      ]
    },
    {
      "cell_type": "code",
      "execution_count": 17,
      "metadata": {
        "id": "bwIwa9cs-yLf"
      },
      "outputs": [],
      "source": [
        "def decrypt_stego(stego_image):\n",
        "    binary_message = \"\"\n",
        "    height, width, depth = stego_image.shape\n",
        "    message_index = 0\n",
        "\n",
        "    for row in range(height):\n",
        "        for column in range(width):\n",
        "            for channel in range(depth):\n",
        "                channel_value = stego_image[row, column, channel]\n",
        "                extracted_LSB = channel_value & 0x01  # Extract LSB\n",
        "                binary_message += str(extracted_LSB)\n",
        "                message_index += 1\n",
        "\n",
        "                # Check for end-of-message marker (8 consecutive 0s)\n",
        "                if message_index % 8 == 0 and binary_message[-8:] == '00000000':\n",
        "                    return binary_message[:-8]  # Return message excluding ending marker\n",
        "\n",
        "    # If end-of-message marker not found, return entire message\n",
        "    return binary_message"
      ]
    },
    {
      "cell_type": "code",
      "execution_count": 40,
      "metadata": {
        "colab": {
          "base_uri": "https://localhost:8080/"
        },
        "id": "-uJaHYCb-yLg",
        "outputId": "b9b68153-e136-4b2b-9afd-7024c4f07c17"
      },
      "outputs": [
        {
          "name": "stdout",
          "output_type": "stream",
          "text": [
            "plaintext:  meetmeinthelibrary\n",
            "ciphertext:  skkzskotznkrohxgxe\n",
            "string ciphertext:  skkzskotznkrohxgxe\n",
            "Original message: meetmeinthelibrary\n"
          ]
        }
      ],
      "source": [
        "#required variables\n",
        "image = cv2.imread('images.jpeg')\n",
        "plaintext = \"Brothel\"\n",
        "key=6\n",
        "print(\"plaintext: \", plaintext)\n",
        "\n",
        "#caesar cipher encryption\n",
        "def encrypt_caesar(plaintext, key):\n",
        "    ciphertext = \"\"\n",
        "    for char in plaintext:\n",
        "        if char.islower():\n",
        "            encrypted_char = chr((ord(char) + key - ord('a')) % 26 + ord('a'))\n",
        "        elif char.isupper():\n",
        "            encrypted_char = chr((ord(char) + key - ord('A')) % 26 + ord('A'))\n",
        "        else:\n",
        "            encrypted_char = char  # Keep non-alphabetic characters unchanged\n",
        "        ciphertext += encrypted_char\n",
        "    return ciphertext\n",
        "\n",
        "#ciphertext string\n",
        "ciphertext=encrypt_caesar(plaintext,key)\n",
        "print(\"ciphertext: \", ciphertext)\n",
        "\n",
        "#create image embedded with binary ciphertext\n",
        "stego_image= encrypt_stego(image,ciphertext)\n",
        "stego_img_path= \"Stego_image.png\"\n",
        "cv2.imwrite(stego_img_path,stego_image)\n",
        "\n",
        "\n",
        "#extract binary ciphertext from image\n",
        "binary_ciphertext = decrypt_stego(stego_image)\n",
        "\n",
        "def binary_to_string(binary_ciphertext):\n",
        "    ciphertext = \"\"\n",
        "    for i in range(0, len(binary_ciphertext), 8):\n",
        "        byte = binary_ciphertext[i:i + 8]\n",
        "        char = chr(int(byte, 2))\n",
        "        ciphertext += char\n",
        "    return ciphertext\n",
        "\n",
        "# Convert binary message to string and print the original message\n",
        "string_ciphertext = binary_to_string(binary_ciphertext)\n",
        "print(\"string ciphertext: \", string_ciphertext)\n",
        "\n",
        "#caesar cipher decryption\n",
        "def decrypt_caesar(ciphertext, key):\n",
        "    plaintext = \"\"\n",
        "    for char in ciphertext:\n",
        "        if char.islower():\n",
        "            decrypted_char = chr((ord(char) - key - ord('a')) % 26 + ord('a'))\n",
        "        elif char.isupper():\n",
        "            decrypted_char = chr((ord(char) - key - ord('A')) % 26 + ord('A'))\n",
        "        else:\n",
        "            decrypted_char = char  # Keep non-alphabetic characters unchanged\n",
        "        plaintext += decrypted_char\n",
        "    return plaintext\n",
        "\n",
        "\n",
        "\n",
        "\n",
        "\n",
        "string_final_text=decrypt_caesar(string_ciphertext, key)\n",
        "print(\"Original message:\", string_final_text)"
      ]
    },
    {
      "cell_type": "code",
      "execution_count": 18,
      "metadata": {
        "id": "ZT--N7WOTkHX"
      },
      "outputs": [],
      "source": []
    }
  ],
  "metadata": {
    "colab": {
      "provenance": []
    },
    "kernelspec": {
      "display_name": "Python 3",
      "language": "python",
      "name": "python3"
    },
    "language_info": {
      "codemirror_mode": {
        "name": "ipython",
        "version": 3
      },
      "file_extension": ".py",
      "mimetype": "text/x-python",
      "name": "python",
      "nbconvert_exporter": "python",
      "pygments_lexer": "ipython3",
      "version": "3.10.0"
    }
  },
  "nbformat": 4,
  "nbformat_minor": 0
}
